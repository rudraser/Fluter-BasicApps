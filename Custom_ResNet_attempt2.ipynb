{
  "nbformat": 4,
  "nbformat_minor": 0,
  "metadata": {
    "colab": {
      "name": "Custom_ResNet.ipynb",
      "provenance": [],
      "include_colab_link": true
    },
    "kernelspec": {
      "name": "python3",
      "display_name": "Python 3"
    },
    "language_info": {
      "name": "python"
    },
    "accelerator": "GPU",
    "widgets": {
      "application/vnd.jupyter.widget-state+json": {
        "7433bb1c9bf1407bbe16944cbcbd8427": {
          "model_module": "@jupyter-widgets/controls",
          "model_name": "HBoxModel",
          "state": {
            "_view_name": "HBoxView",
            "_dom_classes": [],
            "_model_name": "HBoxModel",
            "_view_module": "@jupyter-widgets/controls",
            "_model_module_version": "1.5.0",
            "_view_count": null,
            "_view_module_version": "1.5.0",
            "box_style": "",
            "layout": "IPY_MODEL_010fa2d1370b49529de6acce528a477a",
            "_model_module": "@jupyter-widgets/controls",
            "children": [
              "IPY_MODEL_3690dfdcc3dd4f39906956cd98067da2",
              "IPY_MODEL_9b8e74e4868c4833b4c61a82ddb2b719"
            ]
          }
        },
        "010fa2d1370b49529de6acce528a477a": {
          "model_module": "@jupyter-widgets/base",
          "model_name": "LayoutModel",
          "state": {
            "_view_name": "LayoutView",
            "grid_template_rows": null,
            "right": null,
            "justify_content": null,
            "_view_module": "@jupyter-widgets/base",
            "overflow": null,
            "_model_module_version": "1.2.0",
            "_view_count": null,
            "flex_flow": null,
            "width": null,
            "min_width": null,
            "border": null,
            "align_items": null,
            "bottom": null,
            "_model_module": "@jupyter-widgets/base",
            "top": null,
            "grid_column": null,
            "overflow_y": null,
            "overflow_x": null,
            "grid_auto_flow": null,
            "grid_area": null,
            "grid_template_columns": null,
            "flex": null,
            "_model_name": "LayoutModel",
            "justify_items": null,
            "grid_row": null,
            "max_height": null,
            "align_content": null,
            "visibility": null,
            "align_self": null,
            "height": null,
            "min_height": null,
            "padding": null,
            "grid_auto_rows": null,
            "grid_gap": null,
            "max_width": null,
            "order": null,
            "_view_module_version": "1.2.0",
            "grid_template_areas": null,
            "object_position": null,
            "object_fit": null,
            "grid_auto_columns": null,
            "margin": null,
            "display": null,
            "left": null
          }
        },
        "3690dfdcc3dd4f39906956cd98067da2": {
          "model_module": "@jupyter-widgets/controls",
          "model_name": "FloatProgressModel",
          "state": {
            "_view_name": "ProgressView",
            "style": "IPY_MODEL_4fc70fa016ec4252be3b6fd980949a4b",
            "_dom_classes": [],
            "description": "",
            "_model_name": "FloatProgressModel",
            "bar_style": "success",
            "max": 170498071,
            "_view_module": "@jupyter-widgets/controls",
            "_model_module_version": "1.5.0",
            "value": 170498071,
            "_view_count": null,
            "_view_module_version": "1.5.0",
            "orientation": "horizontal",
            "min": 0,
            "description_tooltip": null,
            "_model_module": "@jupyter-widgets/controls",
            "layout": "IPY_MODEL_2d4ad0b51fb94855ac306909dee80748"
          }
        },
        "9b8e74e4868c4833b4c61a82ddb2b719": {
          "model_module": "@jupyter-widgets/controls",
          "model_name": "HTMLModel",
          "state": {
            "_view_name": "HTMLView",
            "style": "IPY_MODEL_57b83a02166c4676bfecb519401f1606",
            "_dom_classes": [],
            "description": "",
            "_model_name": "HTMLModel",
            "placeholder": "​",
            "_view_module": "@jupyter-widgets/controls",
            "_model_module_version": "1.5.0",
            "value": " 170499072/? [2:21:11&lt;00:00, 20127.03it/s]",
            "_view_count": null,
            "_view_module_version": "1.5.0",
            "description_tooltip": null,
            "_model_module": "@jupyter-widgets/controls",
            "layout": "IPY_MODEL_367232ededcc4c6da28c83493f4d657e"
          }
        },
        "4fc70fa016ec4252be3b6fd980949a4b": {
          "model_module": "@jupyter-widgets/controls",
          "model_name": "ProgressStyleModel",
          "state": {
            "_view_name": "StyleView",
            "_model_name": "ProgressStyleModel",
            "description_width": "initial",
            "_view_module": "@jupyter-widgets/base",
            "_model_module_version": "1.5.0",
            "_view_count": null,
            "_view_module_version": "1.2.0",
            "bar_color": null,
            "_model_module": "@jupyter-widgets/controls"
          }
        },
        "2d4ad0b51fb94855ac306909dee80748": {
          "model_module": "@jupyter-widgets/base",
          "model_name": "LayoutModel",
          "state": {
            "_view_name": "LayoutView",
            "grid_template_rows": null,
            "right": null,
            "justify_content": null,
            "_view_module": "@jupyter-widgets/base",
            "overflow": null,
            "_model_module_version": "1.2.0",
            "_view_count": null,
            "flex_flow": null,
            "width": null,
            "min_width": null,
            "border": null,
            "align_items": null,
            "bottom": null,
            "_model_module": "@jupyter-widgets/base",
            "top": null,
            "grid_column": null,
            "overflow_y": null,
            "overflow_x": null,
            "grid_auto_flow": null,
            "grid_area": null,
            "grid_template_columns": null,
            "flex": null,
            "_model_name": "LayoutModel",
            "justify_items": null,
            "grid_row": null,
            "max_height": null,
            "align_content": null,
            "visibility": null,
            "align_self": null,
            "height": null,
            "min_height": null,
            "padding": null,
            "grid_auto_rows": null,
            "grid_gap": null,
            "max_width": null,
            "order": null,
            "_view_module_version": "1.2.0",
            "grid_template_areas": null,
            "object_position": null,
            "object_fit": null,
            "grid_auto_columns": null,
            "margin": null,
            "display": null,
            "left": null
          }
        },
        "57b83a02166c4676bfecb519401f1606": {
          "model_module": "@jupyter-widgets/controls",
          "model_name": "DescriptionStyleModel",
          "state": {
            "_view_name": "StyleView",
            "_model_name": "DescriptionStyleModel",
            "description_width": "",
            "_view_module": "@jupyter-widgets/base",
            "_model_module_version": "1.5.0",
            "_view_count": null,
            "_view_module_version": "1.2.0",
            "_model_module": "@jupyter-widgets/controls"
          }
        },
        "367232ededcc4c6da28c83493f4d657e": {
          "model_module": "@jupyter-widgets/base",
          "model_name": "LayoutModel",
          "state": {
            "_view_name": "LayoutView",
            "grid_template_rows": null,
            "right": null,
            "justify_content": null,
            "_view_module": "@jupyter-widgets/base",
            "overflow": null,
            "_model_module_version": "1.2.0",
            "_view_count": null,
            "flex_flow": null,
            "width": null,
            "min_width": null,
            "border": null,
            "align_items": null,
            "bottom": null,
            "_model_module": "@jupyter-widgets/base",
            "top": null,
            "grid_column": null,
            "overflow_y": null,
            "overflow_x": null,
            "grid_auto_flow": null,
            "grid_area": null,
            "grid_template_columns": null,
            "flex": null,
            "_model_name": "LayoutModel",
            "justify_items": null,
            "grid_row": null,
            "max_height": null,
            "align_content": null,
            "visibility": null,
            "align_self": null,
            "height": null,
            "min_height": null,
            "padding": null,
            "grid_auto_rows": null,
            "grid_gap": null,
            "max_width": null,
            "order": null,
            "_view_module_version": "1.2.0",
            "grid_template_areas": null,
            "object_position": null,
            "object_fit": null,
            "grid_auto_columns": null,
            "margin": null,
            "display": null,
            "left": null
          }
        }
      }
    }
  },
  "cells": [
    {
      "cell_type": "markdown",
      "metadata": {
        "id": "view-in-github",
        "colab_type": "text"
      },
      "source": [
        "<a href=\"https://colab.research.google.com/github/rudraser/Fluter-BasicApps/blob/main/Custom_ResNet_attempt2.ipynb\" target=\"_parent\"><img src=\"https://colab.research.google.com/assets/colab-badge.svg\" alt=\"Open In Colab\"/></a>"
      ]
    },
    {
      "cell_type": "code",
      "metadata": {
        "id": "wOcx0lBgghLm",
        "colab": {
          "base_uri": "https://localhost:8080/"
        },
        "outputId": "7baca5c8-0694-4f38-df3c-441195fa31bf"
      },
      "source": [
        "import torch\n",
        "import torchvision # torch package for vision related things\n",
        "import torch.nn.functional as F  # Parameterless functions, like (some) activation functions\n",
        "import torchvision.datasets as datasets  # Standard datasets\n",
        "import torchvision.transforms as transforms  # Transformations we can perform on our dataset for augmentation\n",
        "from torch import optim  # For optimizers like SGD, Adam, etc.\n",
        "from torch import nn  # All neural network modules\n",
        "from torch.utils.data import DataLoader  # Gives easier dataset managment by creating mini batches etc.\n",
        "from tqdm import tqdm  # For nice progress bar!\n",
        "device = (torch.device('cuda') if torch.cuda.is_available()\n",
        "          else torch.device('cpu'))\n",
        "print(f\"Training on device {device}.\")"
      ],
      "execution_count": 1,
      "outputs": [
        {
          "output_type": "stream",
          "text": [
            "Training on device cuda.\n"
          ],
          "name": "stdout"
        }
      ]
    },
    {
      "cell_type": "code",
      "metadata": {
        "id": "ouBDlC9Jgoqm",
        "colab": {
          "base_uri": "https://localhost:8080/",
          "height": 99,
          "referenced_widgets": [
            "7433bb1c9bf1407bbe16944cbcbd8427",
            "010fa2d1370b49529de6acce528a477a",
            "3690dfdcc3dd4f39906956cd98067da2",
            "9b8e74e4868c4833b4c61a82ddb2b719",
            "4fc70fa016ec4252be3b6fd980949a4b",
            "2d4ad0b51fb94855ac306909dee80748",
            "57b83a02166c4676bfecb519401f1606",
            "367232ededcc4c6da28c83493f4d657e"
          ]
        },
        "outputId": "76a45112-b4bd-43b3-c048-11071dcdbcff"
      },
      "source": [
        "\n",
        "from matplotlib import pyplot as plt\n",
        "import numpy as np\n",
        "import collections\n",
        "\n",
        "\n",
        "import torch.nn as nn\n",
        "\n",
        "import torch.optim as optim\n",
        "\n",
        "from torchvision import datasets, transforms\n",
        "data_path = '/data-unversioned/p1ch6/'\n",
        "cifar10 = datasets.CIFAR10(\n",
        "    data_path, train=True, download=True,\n",
        "    transform=transforms.Compose([\n",
        "        transforms.RandomCrop(size=[32,32], padding=4),                        \n",
        "        transforms.ToTensor(),\n",
        "        transforms.Normalize((0.4915, 0.4823, 0.4468),\n",
        "                             (0.2470, 0.2435, 0.2616))\n",
        "    ]))"
      ],
      "execution_count": 2,
      "outputs": [
        {
          "output_type": "stream",
          "text": [
            "Downloading https://www.cs.toronto.edu/~kriz/cifar-10-python.tar.gz to /data-unversioned/p1ch6/cifar-10-python.tar.gz\n"
          ],
          "name": "stdout"
        },
        {
          "output_type": "display_data",
          "data": {
            "application/vnd.jupyter.widget-view+json": {
              "model_id": "7433bb1c9bf1407bbe16944cbcbd8427",
              "version_minor": 0,
              "version_major": 2
            },
            "text/plain": [
              "HBox(children=(FloatProgress(value=0.0, max=170498071.0), HTML(value='')))"
            ]
          },
          "metadata": {
            "tags": []
          }
        },
        {
          "output_type": "stream",
          "text": [
            "\n",
            "Extracting /data-unversioned/p1ch6/cifar-10-python.tar.gz to /data-unversioned/p1ch6/\n"
          ],
          "name": "stdout"
        }
      ]
    },
    {
      "cell_type": "code",
      "metadata": {
        "id": "i03NlEVDgyMa",
        "colab": {
          "base_uri": "https://localhost:8080/"
        },
        "outputId": "5059d94b-da1a-4fba-c086-80bd6136414f"
      },
      "source": [
        "from torchvision import datasets, transforms\n",
        "data_path = '/data-unversioned/p1ch6/'\n",
        "cifar10 = datasets.CIFAR10(\n",
        "    data_path, train=True, download=True,\n",
        "    transform=transforms.Compose([\n",
        "        transforms.RandomCrop(size=[32,32], padding=4),                        \n",
        "        transforms.ToTensor(),\n",
        "        transforms.Normalize((0.4915, 0.4823, 0.4468),\n",
        "                             (0.2470, 0.2435, 0.2616))\n",
        "    ]))"
      ],
      "execution_count": 3,
      "outputs": [
        {
          "output_type": "stream",
          "text": [
            "Files already downloaded and verified\n"
          ],
          "name": "stdout"
        }
      ]
    },
    {
      "cell_type": "code",
      "metadata": {
        "id": "fWnb-y7QTZM6",
        "colab": {
          "base_uri": "https://localhost:8080/"
        },
        "outputId": "0a5733eb-63ef-4c3e-a484-0bc6fbaf4554"
      },
      "source": [
        "cifar10_val = datasets.CIFAR10(\n",
        "    data_path, train=False, download=True,\n",
        "    transform=transforms.Compose([               #loading the val set\n",
        "        transforms.ToTensor(),\n",
        "        transforms.Normalize((0.4915, 0.4823, 0.4468),\n",
        "                             (0.2470, 0.2435, 0.2616))\n",
        "    ]))"
      ],
      "execution_count": 4,
      "outputs": [
        {
          "output_type": "stream",
          "text": [
            "Files already downloaded and verified\n"
          ],
          "name": "stdout"
        }
      ]
    },
    {
      "cell_type": "code",
      "metadata": {
        "id": "792a2ZhoskbM"
      },
      "source": [
        "class resblock(nn.Module):                    #creating a resblock which would be used iterativealy.\n",
        "    def __init__(self, n):\n",
        "        super(resblock, self).__init__()\n",
        "        self.conv = nn.Conv2d(n, n, kernel_size=3,\n",
        "                              padding=1, bias=False)                 # defining layers for forward\n",
        "        self.batch_norm = nn.BatchNorm2d(num_features=n)\n",
        "\n",
        "        torch.nn.init.kaiming_normal_(self.conv.weight,\n",
        "                                      nonlinearity='relu')  \n",
        "        torch.nn.init.constant_(self.batch_norm.weight, 0.5)\n",
        "        torch.nn.init.zeros_(self.batch_norm.bias)\n",
        "\n",
        "    def forward(self, x):\n",
        "        out = self.conv(x)                                 #Actual resblock with the skip connection over 1 layer\n",
        "        out = self.batch_norm(out)\n",
        "        out = torch.relu(out)\n",
        "        return out + x"
      ],
      "execution_count": 5,
      "outputs": []
    },
    {
      "cell_type": "code",
      "metadata": {
        "id": "G7PIfI9Cg4VD"
      },
      "source": [
        "class deep(nn.Module):                # the model which uses resblock iteratively and some other layers\n",
        "    def __init__(self, n1=32, n_blocks=16):\n",
        "        super().__init__()\n",
        "        self.n1 = n1\n",
        "        self.conv1 = nn.Conv2d(3, n1, kernel_size=3, padding=1)\n",
        "        self.conv2 = nn.Conv2d(n1, 2*n1, kernel_size=3, padding=1)\n",
        "        self.conv3 = nn.Conv2d(2*n1, 4*n1, kernel_size=3, padding=1)       # defing layers for forward\n",
        "        self.resblocks = nn.Sequential(\n",
        "            *(n_blocks * [resblock(n=n1)]))\n",
        "        self.resblocks2 = nn.Sequential(\n",
        "            *((n_blocks*2) * [resblock(n=n1*2)]))\n",
        "        self.resblocks3 = nn.Sequential(\n",
        "            *(n_blocks * [resblock(n=n1*4)]))\n",
        "        self.fc1 = nn.Linear(8 * 8 * n1*4, 32)\n",
        "        self.fc2 = nn.Linear(32, 16)\n",
        "        self.fc3 = nn.Linear(16, 10)\n",
        "        \n",
        "    def forward(self, x):                    # using the resblocks 3 times, each with twice the number of channels as before\n",
        "        out = torch.relu(self.conv1(x))\n",
        "        out = self.resblocks(out)                          \n",
        "        out = F.max_pool2d(out, 2) \n",
        "        out = self.conv2(out)\n",
        "        out = self.resblocks2(out)\n",
        "        out = F.max_pool2d(out, 2) \n",
        "        out = self.conv3(out)\n",
        "        out = self.resblocks3(out)\n",
        "        out = out.view(-1, 8 * 8 * self.n1*4)\n",
        "        out = torch.relu(self.fc1(out))\n",
        "        out = torch.relu(self.fc2(out))\n",
        "        out = self.fc3(out)\n",
        "        return out"
      ],
      "execution_count": 6,
      "outputs": []
    },
    {
      "cell_type": "code",
      "metadata": {
        "id": "RVBuJngWmhMe"
      },
      "source": [
        "import datetime\n",
        "\n",
        "def training_loop(n_epochs, optimizer, model, loss_fn, train_loader):           # defining the training loop\n",
        "    for epoch in range(1, n_epochs + 1):                                        # these inputs would be defined in next cell\n",
        "        loss_train = 0.0\n",
        "        for imgs, labels in train_loader:\n",
        "            imgs = imgs.to(device=device)  # <1>\n",
        "            labels = labels.to(device=device)\n",
        "            outputs = model(imgs)\n",
        "            loss = loss_fn(outputs, labels)\n",
        "\n",
        "            optimizer.zero_grad()\n",
        "            loss.backward()\n",
        "            optimizer.step()\n",
        "\n",
        "            loss_train += loss.item()\n",
        "\n",
        "        \n",
        "        print('{} Epoch {}, Training loss {}'.format(\n",
        "            datetime.datetime.now(), epoch,\n",
        "            loss_train / len(train_loader)))"
      ],
      "execution_count": 7,
      "outputs": []
    },
    {
      "cell_type": "code",
      "metadata": {
        "id": "j8S3Yvirmh-U"
      },
      "source": [
        "train_loader = torch.utils.data.DataLoader(cifar10, batch_size=64,\n",
        "                                           shuffle=True)                   # defining mini batch size and shuffling\n",
        "\n",
        "model =  deep().to(device=device)# <1>\n",
        "optimizer = optim.SGD(model.parameters(), lr=1e-2, weight_decay=0.01)\n",
        "loss_fn = nn.CrossEntropyLoss()"
      ],
      "execution_count": 8,
      "outputs": []
    },
    {
      "cell_type": "code",
      "metadata": {
        "id": "c0AfUtEimwEm",
        "colab": {
          "base_uri": "https://localhost:8080/"
        },
        "outputId": "77dc1e5f-5225-4e50-a1d5-05a29f7c4083"
      },
      "source": [
        "\n",
        "training_loop(                   #calling the training loop finally\n",
        "    n_epochs = 60,\n",
        "    optimizer = optimizer,\n",
        "    model = model,\n",
        "    loss_fn = loss_fn,\n",
        "    train_loader = train_loader,\n",
        ")"
      ],
      "execution_count": 9,
      "outputs": [
        {
          "output_type": "stream",
          "text": [
            "/usr/local/lib/python3.7/dist-packages/torch/nn/functional.py:718: UserWarning: Named tensors and all their associated APIs are an experimental feature and subject to change. Please do not use them for anything important until they are released as stable. (Triggered internally at  /pytorch/c10/core/TensorImpl.h:1156.)\n",
            "  return torch.max_pool2d(input, kernel_size, stride, padding, dilation, ceil_mode)\n"
          ],
          "name": "stderr"
        },
        {
          "output_type": "stream",
          "text": [
            "2021-07-31 08:09:15.113143 Epoch 1, Training loss 2.3090869444410513\n",
            "2021-07-31 08:10:50.341553 Epoch 2, Training loss 2.3034862057327308\n",
            "2021-07-31 08:12:26.276309 Epoch 3, Training loss 2.262720541118661\n",
            "2021-07-31 08:14:03.904117 Epoch 4, Training loss 1.6089739499189664\n",
            "2021-07-31 08:15:41.380519 Epoch 5, Training loss 1.279591747257106\n",
            "2021-07-31 08:17:19.262187 Epoch 6, Training loss 1.083417211652107\n",
            "2021-07-31 08:18:57.065606 Epoch 7, Training loss 0.9525606626135004\n",
            "2021-07-31 08:20:34.655386 Epoch 8, Training loss 0.863658093621054\n",
            "2021-07-31 08:22:12.602637 Epoch 9, Training loss 0.7995709673980312\n",
            "2021-07-31 08:23:50.325300 Epoch 10, Training loss 0.7456416372600418\n",
            "2021-07-31 08:25:28.016881 Epoch 11, Training loss 0.7095348755721851\n",
            "2021-07-31 08:27:05.523823 Epoch 12, Training loss 0.6733422265638171\n",
            "2021-07-31 08:28:43.299871 Epoch 13, Training loss 0.641565433891533\n",
            "2021-07-31 08:30:21.326785 Epoch 14, Training loss 0.6166433519338403\n",
            "2021-07-31 08:31:58.809628 Epoch 15, Training loss 0.5937556215869192\n",
            "2021-07-31 08:33:36.283727 Epoch 16, Training loss 0.5770927389030871\n",
            "2021-07-31 08:35:14.009668 Epoch 17, Training loss 0.5530336207288611\n",
            "2021-07-31 08:36:51.487548 Epoch 18, Training loss 0.5400518348149936\n",
            "2021-07-31 08:38:29.096465 Epoch 19, Training loss 0.5266614304402905\n",
            "2021-07-31 08:40:06.925978 Epoch 20, Training loss 0.5134945046680662\n",
            "2021-07-31 08:41:44.253951 Epoch 21, Training loss 0.49701452015153585\n",
            "2021-07-31 08:43:21.988779 Epoch 22, Training loss 0.48749058605993495\n",
            "2021-07-31 08:44:59.759858 Epoch 23, Training loss 0.4778504392603779\n",
            "2021-07-31 08:46:37.207964 Epoch 24, Training loss 0.4648081237245399\n",
            "2021-07-31 08:48:15.014211 Epoch 25, Training loss 0.45758461452963406\n",
            "2021-07-31 08:49:52.579939 Epoch 26, Training loss 0.45388078180801533\n",
            "2021-07-31 08:51:29.948800 Epoch 27, Training loss 0.4465908050880103\n",
            "2021-07-31 08:53:07.574299 Epoch 28, Training loss 0.43781000535811304\n",
            "2021-07-31 08:54:45.209304 Epoch 29, Training loss 0.42708188261065033\n",
            "2021-07-31 08:56:22.640390 Epoch 30, Training loss 0.42020386489837064\n",
            "2021-07-31 08:57:59.967421 Epoch 31, Training loss 0.4140692817242554\n",
            "2021-07-31 08:59:37.459468 Epoch 32, Training loss 0.41217411801104653\n",
            "2021-07-31 09:01:15.064870 Epoch 33, Training loss 0.40439783564537685\n",
            "2021-07-31 09:02:52.567504 Epoch 34, Training loss 0.39992418805199204\n",
            "2021-07-31 09:04:30.367261 Epoch 35, Training loss 0.39273823921561546\n",
            "2021-07-31 09:06:08.108594 Epoch 36, Training loss 0.3859202720777458\n",
            "2021-07-31 09:07:45.421739 Epoch 37, Training loss 0.3821101318044431\n",
            "2021-07-31 09:09:22.905312 Epoch 38, Training loss 0.38088675051012916\n",
            "2021-07-31 09:11:00.178952 Epoch 39, Training loss 0.37499815942076464\n",
            "2021-07-31 09:12:37.787064 Epoch 40, Training loss 0.37490426295477414\n",
            "2021-07-31 09:14:15.221941 Epoch 41, Training loss 0.3706709712248324\n",
            "2021-07-31 09:15:52.377097 Epoch 42, Training loss 0.3614130259570106\n",
            "2021-07-31 09:17:30.566882 Epoch 43, Training loss 0.3601642824576029\n",
            "2021-07-31 09:19:08.371143 Epoch 44, Training loss 0.3568728771489447\n",
            "2021-07-31 09:20:46.197401 Epoch 45, Training loss 0.358704944191229\n",
            "2021-07-31 09:22:23.779137 Epoch 46, Training loss 0.3520516368758191\n",
            "2021-07-31 09:24:01.092830 Epoch 47, Training loss 0.3473611624668474\n",
            "2021-07-31 09:25:38.454647 Epoch 48, Training loss 0.3444445570716468\n",
            "2021-07-31 09:27:16.111735 Epoch 49, Training loss 0.3465063539917207\n",
            "2021-07-31 09:28:53.975913 Epoch 50, Training loss 0.34567259501694414\n",
            "2021-07-31 09:30:31.738361 Epoch 51, Training loss 0.3433546243268815\n",
            "2021-07-31 09:32:09.663975 Epoch 52, Training loss 0.3397268708842947\n",
            "2021-07-31 09:33:48.368759 Epoch 53, Training loss 0.33180434273941745\n",
            "2021-07-31 09:35:27.308779 Epoch 54, Training loss 0.33543219922296225\n",
            "2021-07-31 09:37:06.094386 Epoch 55, Training loss 0.3276768811047077\n",
            "2021-07-31 09:38:44.727981 Epoch 56, Training loss 0.32835755594398663\n",
            "2021-07-31 09:40:23.754189 Epoch 57, Training loss 0.32834750037554583\n",
            "2021-07-31 09:42:02.120153 Epoch 58, Training loss 0.32795098252461086\n",
            "2021-07-31 09:43:41.084379 Epoch 59, Training loss 0.31919327255367014\n",
            "2021-07-31 09:45:19.711261 Epoch 60, Training loss 0.3211003589870222\n"
          ],
          "name": "stdout"
        }
      ]
    },
    {
      "cell_type": "code",
      "metadata": {
        "id": "Rbfjst0E2g5G",
        "colab": {
          "base_uri": "https://localhost:8080/"
        },
        "outputId": "9681acf3-1fca-4980-f6ad-5023d51e02ad"
      },
      "source": [
        "\n",
        "train_loader = torch.utils.data.DataLoader(cifar10, batch_size=64,\n",
        "                                           shuffle=False)\n",
        "val_loader = torch.utils.data.DataLoader(cifar10_val, batch_size=64,\n",
        "                                         shuffle=False)\n",
        "\n",
        "def validate(model, train_loader, val_loader):\n",
        "    for name, loader in [(\"train\", train_loader), (\"val\", val_loader)]:\n",
        "        correct = 0\n",
        "        total = 0\n",
        "\n",
        "        with torch.no_grad():   # we do no need backpropagation for this hence the nograd\n",
        "            for imgs, labels in loader:\n",
        "                imgs = imgs.to(device=device)\n",
        "                labels = labels.to(device=device)\n",
        "                outputs = model(imgs)\n",
        "                _, predicted = torch.max(outputs, dim=1) # taking the class at maximum probability as prediction\n",
        "                total += labels.shape[0]  \n",
        "                correct += int((predicted == labels).sum())   # calculating the no. of correct predictions.\n",
        "\n",
        "        print(\"Accuracy {}: {:.2f}\".format(name , correct / total))\n",
        "\n",
        "validate(model, train_loader, val_loader)"
      ],
      "execution_count": 10,
      "outputs": [
        {
          "output_type": "stream",
          "text": [
            "Accuracy train: 0.84\n",
            "Accuracy val: 0.80\n"
          ],
          "name": "stdout"
        }
      ]
    },
    {
      "cell_type": "code",
      "metadata": {
        "id": "Zbrdxh876qaJ"
      },
      "source": [
        "optimizer = optim.SGD(model.parameters(), lr=0.005, weight_decay=0.01)"
      ],
      "execution_count": 11,
      "outputs": []
    },
    {
      "cell_type": "code",
      "metadata": {
        "id": "oRhQJbKh62kt",
        "colab": {
          "base_uri": "https://localhost:8080/"
        },
        "outputId": "f9297f6b-714f-4de5-87ab-9d96155090ef"
      },
      "source": [
        "training_loop(  \n",
        "    n_epochs = 10,                      \n",
        "    optimizer = optimizer,\n",
        "    model = model,\n",
        "    loss_fn = loss_fn,\n",
        "    train_loader = train_loader,\n",
        ")"
      ],
      "execution_count": 12,
      "outputs": [
        {
          "output_type": "stream",
          "text": [
            "2021-07-31 09:47:44.543312 Epoch 1, Training loss 0.22255751383407493\n",
            "2021-07-31 09:49:23.068611 Epoch 2, Training loss 0.20387168931762886\n",
            "2021-07-31 09:51:02.075728 Epoch 3, Training loss 0.20181098516525514\n",
            "2021-07-31 09:52:40.531576 Epoch 4, Training loss 0.20029242577798226\n",
            "2021-07-31 09:54:19.138255 Epoch 5, Training loss 0.1956471597818691\n",
            "2021-07-31 09:55:57.830027 Epoch 6, Training loss 0.20162048854905626\n",
            "2021-07-31 09:57:36.538567 Epoch 7, Training loss 0.2008804143513636\n",
            "2021-07-31 09:59:15.848272 Epoch 8, Training loss 0.20314151855647716\n",
            "2021-07-31 10:00:54.561053 Epoch 9, Training loss 0.19794660950998974\n",
            "2021-07-31 10:02:33.216900 Epoch 10, Training loss 0.19925006257031885\n"
          ],
          "name": "stdout"
        }
      ]
    },
    {
      "cell_type": "code",
      "metadata": {
        "id": "Ukeetie07bdu",
        "colab": {
          "base_uri": "https://localhost:8080/"
        },
        "outputId": "1343a550-7acf-4cb6-9705-9b6aa48d094c"
      },
      "source": [
        "validate(model, train_loader, val_loader)           #now checking acc"
      ],
      "execution_count": 13,
      "outputs": [
        {
          "output_type": "stream",
          "text": [
            "Accuracy train: 0.93\n",
            "Accuracy val: 0.85\n"
          ],
          "name": "stdout"
        }
      ]
    },
    {
      "cell_type": "code",
      "metadata": {
        "id": "4Gcu36ec63xZ"
      },
      "source": [
        "optimizer = optim.SGD(model.parameters(), lr=0.001, weight_decay=0.01)     #further lowering LR"
      ],
      "execution_count": 14,
      "outputs": []
    },
    {
      "cell_type": "code",
      "metadata": {
        "colab": {
          "base_uri": "https://localhost:8080/"
        },
        "id": "EWe10Nu67XNm",
        "outputId": "5dbd83d5-560c-4ba8-aabd-d02a175fb4e6"
      },
      "source": [
        "training_loop(                    # another 10 iterations\n",
        "    n_epochs = 15,\n",
        "    optimizer = optimizer,\n",
        "    model = model,\n",
        "    loss_fn = loss_fn,\n",
        "    train_loader = train_loader,\n",
        ")"
      ],
      "execution_count": 15,
      "outputs": [
        {
          "output_type": "stream",
          "text": [
            "2021-07-31 10:04:59.235962 Epoch 1, Training loss 0.12006691121317618\n",
            "2021-07-31 10:06:37.820553 Epoch 2, Training loss 0.09322239496849972\n",
            "2021-07-31 10:08:15.739263 Epoch 3, Training loss 0.0818426752393908\n",
            "2021-07-31 10:09:53.420914 Epoch 4, Training loss 0.07769588056041876\n",
            "2021-07-31 10:11:31.027725 Epoch 5, Training loss 0.07096302416294699\n",
            "2021-07-31 10:13:08.688152 Epoch 6, Training loss 0.06821863951942767\n",
            "2021-07-31 10:14:45.853902 Epoch 7, Training loss 0.06539886328213089\n",
            "2021-07-31 10:16:23.407596 Epoch 8, Training loss 0.06339500184752085\n",
            "2021-07-31 10:18:00.951224 Epoch 9, Training loss 0.05940855986526822\n",
            "2021-07-31 10:19:38.120934 Epoch 10, Training loss 0.058325695926728455\n",
            "2021-07-31 10:21:15.571902 Epoch 11, Training loss 0.057290175416366294\n",
            "2021-07-31 10:22:52.943547 Epoch 12, Training loss 0.05460345429842315\n",
            "2021-07-31 10:24:30.102784 Epoch 13, Training loss 0.05364889797606908\n",
            "2021-07-31 10:26:07.293617 Epoch 14, Training loss 0.053320423220855936\n",
            "2021-07-31 10:27:44.702201 Epoch 15, Training loss 0.05488904759161593\n"
          ],
          "name": "stdout"
        }
      ]
    },
    {
      "cell_type": "code",
      "metadata": {
        "colab": {
          "base_uri": "https://localhost:8080/"
        },
        "id": "YJETy0e-7X0q",
        "outputId": "d058ac2a-1c04-44df-921f-6af3a77c4924"
      },
      "source": [
        "validate(model, train_loader, val_loader)           #now checking acc"
      ],
      "execution_count": 16,
      "outputs": [
        {
          "output_type": "stream",
          "text": [
            "Accuracy train: 0.98\n",
            "Accuracy val: 0.87\n"
          ],
          "name": "stdout"
        }
      ]
    },
    {
      "cell_type": "code",
      "metadata": {
        "id": "l__Do5Ha2ox6"
      },
      "source": [
        "optimizer = optim.SGD(model.parameters(), lr=0.0005, weight_decay=0.001)     #further lowering LR"
      ],
      "execution_count": 17,
      "outputs": []
    },
    {
      "cell_type": "code",
      "metadata": {
        "id": "rjWRAlpR2ty2",
        "outputId": "7a3ceb1d-4c00-4480-a406-1ffc0ba79c5d",
        "colab": {
          "base_uri": "https://localhost:8080/"
        }
      },
      "source": [
        "training_loop(                    # another 10 iterations\n",
        "    n_epochs = 15,\n",
        "    optimizer = optimizer,\n",
        "    model = model,\n",
        "    loss_fn = loss_fn,\n",
        "    train_loader = train_loader,\n",
        ")"
      ],
      "execution_count": 18,
      "outputs": [
        {
          "output_type": "stream",
          "text": [
            "2021-07-31 10:30:10.414984 Epoch 1, Training loss 0.04089769851380621\n",
            "2021-07-31 10:31:47.311873 Epoch 2, Training loss 0.036981203542698335\n",
            "2021-07-31 10:33:24.754653 Epoch 3, Training loss 0.03565228300715756\n",
            "2021-07-31 10:35:02.013722 Epoch 4, Training loss 0.03268932851503038\n",
            "2021-07-31 10:36:38.985878 Epoch 5, Training loss 0.03207675413028492\n",
            "2021-07-31 10:38:16.209678 Epoch 6, Training loss 0.03214629590862652\n",
            "2021-07-31 10:39:53.583887 Epoch 7, Training loss 0.031186605056049897\n",
            "2021-07-31 10:41:30.780593 Epoch 8, Training loss 0.030017249009874472\n",
            "2021-07-31 10:43:08.277706 Epoch 9, Training loss 0.02885091381342224\n",
            "2021-07-31 10:44:45.665569 Epoch 10, Training loss 0.02699403008675355\n",
            "2021-07-31 10:46:23.055295 Epoch 11, Training loss 0.025960669507864444\n",
            "2021-07-31 10:48:00.250510 Epoch 12, Training loss 0.02544320775035178\n",
            "2021-07-31 10:49:37.504836 Epoch 13, Training loss 0.0263497814374721\n",
            "2021-07-31 10:51:14.854424 Epoch 14, Training loss 0.025131487349808083\n",
            "2021-07-31 10:52:52.587465 Epoch 15, Training loss 0.023912488325947688\n"
          ],
          "name": "stdout"
        }
      ]
    },
    {
      "cell_type": "code",
      "metadata": {
        "id": "Umo2J56v2vbI",
        "outputId": "f0ac536a-edb1-40d6-ca41-f28b913598ae",
        "colab": {
          "base_uri": "https://localhost:8080/"
        }
      },
      "source": [
        "validate(model, train_loader, val_loader)           #now checking acc"
      ],
      "execution_count": 19,
      "outputs": [
        {
          "output_type": "stream",
          "text": [
            "Accuracy train: 0.99\n",
            "Accuracy val: 0.87\n"
          ],
          "name": "stdout"
        }
      ]
    }
  ]
}